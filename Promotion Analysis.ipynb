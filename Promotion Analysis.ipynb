{
 "cells": [
  {
   "cell_type": "markdown",
   "id": "19d38673-79c3-41a4-b114-e2f5334a2bce",
   "metadata": {},
   "source": [
    "# Promotion A-B Testing and further analysis"
   ]
  },
  {
   "cell_type": "code",
   "execution_count": null,
   "id": "084aff8d-c968-4446-9b98-1820b49e3933",
   "metadata": {},
   "outputs": [],
   "source": [
    "import pandas as pd\n",
    "import numpy as np\n",
    "import scipy.stats as stats\n",
    "import matplotlib.pyplot as plt\n",
    "import seaborn as sns"
   ]
  },
  {
   "cell_type": "code",
   "execution_count": null,
   "id": "344d479c-36ae-464c-943b-a38717460b74",
   "metadata": {},
   "outputs": [],
   "source": [
    "import statsmodels.api as sm\n",
    "import statsmodels.formula.api as smf"
   ]
  },
  {
   "cell_type": "code",
   "execution_count": null,
   "id": "e8e93783-d3cd-4cf0-b2f8-5b3527da4978",
   "metadata": {},
   "outputs": [],
   "source": [
    "processed_data_path = \"C:/Users/lsmith3/OneDrive - MBTA/Documents/Personal Projects/AB Testing/cleaned_WA_Marketing-Campaign.csv\"\n",
    "df = pd.read_csv(processed_data_path)"
   ]
  },
  {
   "cell_type": "markdown",
   "id": "e71f4446-be52-49d7-a618-b4347596c465",
   "metadata": {},
   "source": [
    "### Showing basic Descriptive Statistics"
   ]
  },
  {
   "cell_type": "code",
   "execution_count": null,
   "id": "ed064d7c-5100-45c4-bef3-11de276831e6",
   "metadata": {},
   "outputs": [],
   "source": [
    "print(\"Dataset contains {} rows and {} colums\". format(df.shape[0], df.shape[1]))"
   ]
  },
  {
   "cell_type": "code",
   "execution_count": null,
   "id": "4128212f-1041-49ca-8c0b-210eaa43ce36",
   "metadata": {},
   "outputs": [],
   "source": [
    "print(\"Data Summary:\\n\", df.describe())"
   ]
  },
  {
   "cell_type": "code",
   "execution_count": null,
   "id": "696c8c69-4823-431b-b1c8-feac97abc123",
   "metadata": {},
   "outputs": [],
   "source": [
    "print(\"Sample data:\\n\", df.head())"
   ]
  },
  {
   "cell_type": "markdown",
   "id": "39700dcd-40cf-4292-8e50-b8cbfd5994d9",
   "metadata": {},
   "source": [
    "### Changing columns: Promotion, HighPerformer, Location ID, MarketID and week into categorical variables"
   ]
  },
  {
   "cell_type": "code",
   "execution_count": null,
   "id": "c665971b-e27c-490a-9bcb-fff8fb07624c",
   "metadata": {},
   "outputs": [],
   "source": [
    "print(\"Changing columns : Promotion, HighPerformer, LocationID, MarketID and week into categorical varibales \\n\")\n",
    "df['Promotion'] = df['Promotion'].astype('category')\n",
    "df['HighPerformer'] = df['HighPerformer'].astype('category')\n",
    "df['LocationID'] = df['LocationID'].astype('category')\n",
    "df['MarketID'] = df['MarketID'].astype('category')\n",
    "df['week'] = df['week'].astype('category')"
   ]
  },
  {
   "cell_type": "code",
   "execution_count": null,
   "id": "ffdb6478-1eb1-46f5-bb70-e5c38a7e5be6",
   "metadata": {},
   "outputs": [],
   "source": [
    "print(df.info(), \"\\n\")"
   ]
  },
  {
   "cell_type": "markdown",
   "id": "e0bcb653-c70f-473a-ab96-c2d4854b0116",
   "metadata": {},
   "source": [
    "### Descriptive Statistics: Grouping by Promotion"
   ]
  },
  {
   "cell_type": "code",
   "execution_count": null,
   "id": "1567b5ac-0427-4551-973d-f8f3a0e0f635",
   "metadata": {},
   "outputs": [],
   "source": [
    "print(\"Descriptive Statistics: Grouping by Promotion... \\n\")\n",
    "sales_summary = df.groupby('Promotion')['SalesInThousands'].agg(['mean', 'std', 'count'])\n",
    "\n",
    "print(sales_summary)"
   ]
  },
  {
   "cell_type": "markdown",
   "id": "a2fa3b66-086a-41de-b3a4-d190dfa4fe97",
   "metadata": {},
   "source": [
    "### One-Way Anova to test if there is a significant difference in sales across promotions\")"
   ]
  },
  {
   "cell_type": "code",
   "execution_count": null,
   "id": "aa3cec63-8a8c-4b11-9ae7-98da2d69f42b",
   "metadata": {},
   "outputs": [],
   "source": [
    "print(\"One-Way Anova to test if there is a significant difference in sales across promotions\")\n",
    "print(\"ANOVA results ...\\n\")\n",
    "\n",
    "anova_result = stats.f_oneway(\n",
    "    df[df['Promotion'] == 1]['SalesInThousands'],\n",
    "    df[df['Promotion'] == 2]['SalesInThousands'],\n",
    "    df[df['Promotion'] == 3]['SalesInThousands']\n",
    ")\n",
    "\n",
    "print(\"F-statistic: {},  p-value: {} \\n\".format(anova_result.statistic, anova_result.pvalue))"
   ]
  },
  {
   "cell_type": "markdown",
   "id": "1aaee943-7554-4512-adc3-5598d4709826",
   "metadata": {},
   "source": [
    "### Interpretation of ANOVA results"
   ]
  },
  {
   "cell_type": "code",
   "execution_count": null,
   "id": "024fb34f-dc60-4894-ba92-c4834c9a2283",
   "metadata": {},
   "outputs": [],
   "source": [
    "print(\"Interpretation\\n\")\n",
    "\n",
    "if anova_result.pvalue < 0.05:\n",
    "    print(\"There is a statistically significant difference in sales across promotions. \")\n",
    "else:\n",
    "    print(\"There is no statistically significant difference in sales across promotions. \")"
   ]
  },
  {
   "cell_type": "markdown",
   "id": "18d4fcda-edd0-4b5b-9906-13a0af07076b",
   "metadata": {},
   "source": [
    "### Visualizing sales by promotion"
   ]
  },
  {
   "cell_type": "code",
   "execution_count": null,
   "id": "06977c41-7899-44c4-9049-3bf1efbd6474",
   "metadata": {},
   "outputs": [],
   "source": [
    "print(\"Visualizing sales by promotion... \")\n",
    "plt.figure(figsize=(10,6))\n",
    "sns.boxplot(df, x='Promotion', y='SalesInThousands', hue='Promotion', palette='Set2', legend=False)\n",
    "plt.title('Sales Distribution by Promotion')\n",
    "plt.xlabel('Promotion')\n",
    "plt.ylabel('SalesInThousands')\n",
    "plt.show()"
   ]
  },
  {
   "cell_type": "markdown",
   "id": "a49273ec-db47-4d1e-a698-1c22c7642500",
   "metadata": {},
   "source": [
    "### Calculating uplift for each promotion (compared to Control Group)\n",
    "\n",
    "Promotion 1 is being used as the Control Group"
   ]
  },
  {
   "cell_type": "code",
   "execution_count": null,
   "id": "17ba7eca-356b-4485-8c1c-42be3c6a86dd",
   "metadata": {},
   "outputs": [],
   "source": [
    "control_mean = df[df['Promotion']== 2]['SalesInThousands'].mean()\n",
    "#Percentage Uplift\n",
    "df['Uplift'] = (df['SalesInThousands'] - control_mean) / control_mean\n",
    "\n",
    "plt.figure(figsize=(10,6))\n",
    "sns.barplot(df, x='Promotion', y='Uplift', palette='Set1')\n",
    "plt.title('Uplift in Sales by Promotion(Compared to Control: Promotion 2)')\n",
    "plt.xlabel('Promotion')\n",
    "plt.ylabel('Uplift')\n",
    "plt.show()"
   ]
  },
  {
   "cell_type": "markdown",
   "id": "c6c89eb6-8998-49dd-9773-b2fc8a8d0774",
   "metadata": {},
   "source": [
    "Promotion 2 (Baseline): Since Promotion 2 is the baseline, its uplift is considered 0%.\n",
    "\n",
    "Promotion 1: The uplift for Promotion 1 is positive, ranging from 0% to 23%, with a vertical line indicating the 95% confidence interval (from 17% to 29%). This suggests that Promotion 1 outperformed Promotion 2, with a notable positive impact on sales, indicating it was significantly more effective than Promotion 2.\n",
    "\n",
    "Promotion 3: Promotion 3 also shows a positive uplift ranging from 0% to 17%, with a vertical line indicating the 95% confidence interval (from 12% to 23%). This suggests that Promotion 3 also performed better than Promotion 2, though not as strongly as Promotion 1."
   ]
  },
  {
   "cell_type": "markdown",
   "id": "87241c39-2624-444f-a6ca-29d18036fc04",
   "metadata": {},
   "source": [
    "## Additional Analysis and Visualizations"
   ]
  },
  {
   "cell_type": "markdown",
   "id": "4810044d-0f6e-42fb-acba-d20afcc09bed",
   "metadata": {},
   "source": [
    "#### Sales over the 4 week period for top 5 locations."
   ]
  },
  {
   "cell_type": "code",
   "execution_count": null,
   "id": "a59b0db3-2289-4278-b4e5-5769c6a64c83",
   "metadata": {},
   "outputs": [],
   "source": [
    "top_locations = df.groupby('LocationID')['SalesInThousands'].sum().nlargest(5).index\n",
    "\n",
    "df_filtered = df[df['LocationID'].isin(top_locations)]\n",
    "colors = sns.color_palette(\"Set2\", n_colors=5)\n",
    "\n",
    "plt.figure(figsize=(24, 10))\n",
    "for idx, location in enumerate(top_locations):\n",
    "    location_data = df_filtered[df_filtered['LocationID'] == location]\n",
    "    sns.lineplot(data=location_data, x='week', y='SalesInThousands', \n",
    "                 label=location, color=colors[idx], marker='o')\n",
    "plt.title('Impact of Promotion Over 4 Weeks (Top 5 LocationIDs)', fontsize=18)\n",
    "plt.xlabel('Week', fontsize=14)\n",
    "plt.ylabel('Sales (in Thousands)', fontsize=14)\n",
    "\n",
    "plt.legend(title='Top 5 LocationIDs', bbox_to_anchor=(1.05, 1), loc='upper center')\n",
    "plt.show()\n"
   ]
  },
  {
   "cell_type": "markdown",
   "id": "4a8c52e7-4a7c-46e6-8116-295d53c3e79e",
   "metadata": {},
   "source": [
    "#### Older vs Younger Store Promotion Performance Over 4 Weeks."
   ]
  },
  {
   "cell_type": "code",
   "execution_count": null,
   "id": "2a2ce7fa-10d5-4c5a-8c94-32f2af70b988",
   "metadata": {},
   "outputs": [],
   "source": [
    "median_age = df['AgeOfStore'].median()\n",
    "df['StoreCategory'] = df['AgeOfStore'].apply(lambda x: 'Older' if x >= median_age else 'Younger')"
   ]
  },
  {
   "cell_type": "code",
   "execution_count": null,
   "id": "38f28b24-c6ad-42e6-bda1-621c051ab2b2",
   "metadata": {},
   "outputs": [],
   "source": [
    "plt.figure(figsize=(12, 6))\n",
    "sns.lineplot(data=df, x='week', y='SalesInThousands', hue='StoreCategory', style='Promotion', markers=True, ci=None)\n",
    "plt.title('Impact of Promotion on Older vs Younger Stores Over 4 Weeks')\n",
    "plt.xlabel('Week')\n",
    "plt.ylabel('Sales (in Thousands)')\n",
    "plt.legend(bbox_to_anchor=(1.05, 1), loc='upper center')\n",
    "plt.show()"
   ]
  },
  {
   "cell_type": "markdown",
   "id": "6a4655dc-433c-4420-b971-bebb8e26c50b",
   "metadata": {},
   "source": [
    "#### Promotion Effect by Market Size"
   ]
  },
  {
   "cell_type": "code",
   "execution_count": null,
   "id": "bc71625b-81a9-44fe-a254-b431201b703e",
   "metadata": {},
   "outputs": [],
   "source": [
    "promo_by_market_size = df.groupby(['MarketSize', 'Promotion'])['SalesInThousands'].mean().reset_index()"
   ]
  },
  {
   "cell_type": "code",
   "execution_count": null,
   "id": "da6fd8a7-eaaa-4042-b786-1ef92282aa43",
   "metadata": {},
   "outputs": [],
   "source": [
    "plt.figure(figsize=(10, 6))\n",
    "sns.barplot(data=promo_by_market_size, x='MarketSize', y='SalesInThousands', hue='Promotion', palette='Set2')\n",
    "plt.title('Promotion Effectiveness by Market Size')\n",
    "plt.xlabel('Market Size')\n",
    "plt.ylabel('Average Sales (in Thousands)')\n",
    "plt.show()"
   ]
  },
  {
   "cell_type": "markdown",
   "id": "b6b1899c-b689-411d-9560-c64bc3892c10",
   "metadata": {},
   "source": [
    "#### Predicting Sales with Generalized Linear Regression"
   ]
  },
  {
   "cell_type": "code",
   "execution_count": null,
   "id": "09d2f4e3-8695-4cbb-8a8c-0d79cd6e6dbb",
   "metadata": {},
   "outputs": [],
   "source": [
    "formula = 'SalesInThousands ~ C(Promotion) + C(MarketSize) + AgeOfStore + marketSizeEncoded'\n",
    "model = smf.glm(formula=formula, data=df, family=sm.families.Gaussian()).fit()\n",
    "\n",
    "print(model.summary())"
   ]
  },
  {
   "cell_type": "markdown",
   "id": "177d1432-ff7d-4e78-9471-cd8cb8983914",
   "metadata": {},
   "source": [
    "The Generalized Linear Model (GLM) results show the following insights:\n",
    "\n",
    "- The intercept value indicates that, for the baseline categories, sales start at approximately 18.65 thousand units.\n",
    "- **Promotion 2** (compared to Promotion 1) has a significant negative effect on sales, with a decrease of around 10.75 thousand units.\n",
    "- **Promotion 3** does not have a statistically significant impact on sales, with a p-value of 0.351.\n",
    "- **MarketSize**: Being in a medium-sized market significantly decreases sales by about 8.18 thousand units, while being in a small market significantly increases sales by approximately 22.84 thousand units.\n",
    "- **Age of Store** has no significant impact on sales (p-value = 0.320), suggesting store age doesn't affect sales in this model.\n",
    "- **marketSizeEncoded**: A one-unit increase in this encoded market size feature is associated with a significant sales increase of 18.45 thousand units.\n",
    "\n",
    "Overall, the model explains 74.77% of the variance in sales based on these variables."
   ]
  },
  {
   "cell_type": "code",
   "execution_count": null,
   "id": "848cea57-33a3-4899-adec-17d75917b4a5",
   "metadata": {},
   "outputs": [],
   "source": []
  }
 ],
 "metadata": {
  "kernelspec": {
   "display_name": "Python 3 (ipykernel)",
   "language": "python",
   "name": "python3"
  },
  "language_info": {
   "codemirror_mode": {
    "name": "ipython",
    "version": 3
   },
   "file_extension": ".py",
   "mimetype": "text/x-python",
   "name": "python",
   "nbconvert_exporter": "python",
   "pygments_lexer": "ipython3",
   "version": "3.12.7"
  }
 },
 "nbformat": 4,
 "nbformat_minor": 5
}
